{
 "cells": [
  {
   "cell_type": "code",
   "execution_count": 19,
   "metadata": {},
   "outputs": [
    {
     "name": "stdout",
     "output_type": "stream",
     "text": [
      "---- p[fg_mask] ---- torch.Size([30, 64])\n",
      "torch.Size([120, 16])\n"
     ]
    }
   ],
   "source": [
    "import torch\n",
    "\n",
    "# Step 1: Generate a random tensor of shape (8, 10) with values between 0 and 1\n",
    "random_tensor = torch.rand(8, 10)\n",
    "\n",
    "# Step 2: Convert the tensor values to True/False based on a threshold (0.5 in this case)\n",
    "fg_mask = random_tensor > 0.5\n",
    "\n",
    "# Step 3: Print the resulting boolean tensor\n",
    "p = torch.randint(5, 10, (8, 10, 64))\n",
    "print(\"---- p[fg_mask] ----\", p[fg_mask].shape)\n",
    "c = p[fg_mask].view(-1, 16)\n",
    "print(c.shape)\n"
   ]
  },
  {
   "cell_type": "code",
   "execution_count": 22,
   "metadata": {},
   "outputs": [
    {
     "name": "stdout",
     "output_type": "stream",
     "text": [
      "tensor([[False,  True, False],\n",
      "        [False,  True,  True]])\n",
      "tensor([[[7, 8, 8, 8, 9, 9, 5, 5, 9, 6],\n",
      "         [9, 5, 5, 7, 7, 9, 5, 9, 6, 6],\n",
      "         [6, 7, 8, 7, 9, 6, 8, 5, 9, 5]],\n",
      "\n",
      "        [[8, 9, 6, 5, 7, 5, 8, 9, 8, 9],\n",
      "         [8, 9, 7, 6, 7, 8, 6, 9, 7, 8],\n",
      "         [7, 5, 9, 5, 6, 5, 5, 7, 5, 7]]])\n",
      "---- p[fg_mask] ---- torch.Size([3, 10])\n",
      "torch.Size([6, 5])\n"
     ]
    }
   ],
   "source": [
    "import torch\n",
    "\n",
    "# Step 1: Generate a random tensor of shape (8, 10) with values between 0 and 1\n",
    "random_tensor = torch.rand(2, 3)\n",
    "\n",
    "# Step 2: Convert the tensor values to True/False based on a threshold (0.5 in this case)\n",
    "fg_mask = random_tensor > 0.5\n",
    "print(fg_mask)\n",
    "# Step 3: Print the resulting boolean tensor\n",
    "p = torch.randint(5, 10, (2, 3, 10))\n",
    "print(p)\n",
    "print(\"---- p[fg_mask] ----\", p[fg_mask].shape)\n",
    "c = p[fg_mask].view(-1, 5)\n",
    "print(c.shape)"
   ]
  }
 ],
 "metadata": {
  "kernelspec": {
   "display_name": "yolotrt",
   "language": "python",
   "name": "python3"
  },
  "language_info": {
   "codemirror_mode": {
    "name": "ipython",
    "version": 3
   },
   "file_extension": ".py",
   "mimetype": "text/x-python",
   "name": "python",
   "nbconvert_exporter": "python",
   "pygments_lexer": "ipython3",
   "version": "3.9.17"
  },
  "orig_nbformat": 4
 },
 "nbformat": 4,
 "nbformat_minor": 2
}
